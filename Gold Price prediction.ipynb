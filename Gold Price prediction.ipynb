{
 "cells": [
  {
   "cell_type": "code",
   "execution_count": 1,
   "id": "7c412d98-a2c8-467d-bfd4-28c1d730a549",
   "metadata": {},
   "outputs": [],
   "source": [
    "import numpy as np\n",
    "import pandas as pd\n",
    "import matplotlib.pyplot as plt\n",
    "import seaborn as sns\n",
    "from sklearn.model_selection import train_test_split\n",
    "from sklearn.ensemble import RandomForestRegressor\n",
    "from sklearn import metrics"
   ]
  },
  {
   "cell_type": "code",
   "execution_count": 2,
   "id": "97fc0bce-478a-49f9-85de-0f078cfa02ba",
   "metadata": {},
   "outputs": [],
   "source": [
    "gold_data = pd.read_csv('C:/Users/Admin/Downloads/gld_price_data.csv')"
   ]
  },
  {
   "cell_type": "code",
   "execution_count": 3,
   "id": "1f701b8e-3b56-4176-bd2d-74791d446c8f",
   "metadata": {},
   "outputs": [
    {
     "data": {
      "text/html": [
       "<div>\n",
       "<style scoped>\n",
       "    .dataframe tbody tr th:only-of-type {\n",
       "        vertical-align: middle;\n",
       "    }\n",
       "\n",
       "    .dataframe tbody tr th {\n",
       "        vertical-align: top;\n",
       "    }\n",
       "\n",
       "    .dataframe thead th {\n",
       "        text-align: right;\n",
       "    }\n",
       "</style>\n",
       "<table border=\"1\" class=\"dataframe\">\n",
       "  <thead>\n",
       "    <tr style=\"text-align: right;\">\n",
       "      <th></th>\n",
       "      <th>Date</th>\n",
       "      <th>SPX</th>\n",
       "      <th>GLD</th>\n",
       "      <th>USO</th>\n",
       "      <th>SLV</th>\n",
       "      <th>EUR/USD</th>\n",
       "    </tr>\n",
       "  </thead>\n",
       "  <tbody>\n",
       "    <tr>\n",
       "      <th>0</th>\n",
       "      <td>1/2/2008</td>\n",
       "      <td>1447.160034</td>\n",
       "      <td>84.860001</td>\n",
       "      <td>78.470001</td>\n",
       "      <td>15.180</td>\n",
       "      <td>1.471692</td>\n",
       "    </tr>\n",
       "    <tr>\n",
       "      <th>1</th>\n",
       "      <td>1/3/2008</td>\n",
       "      <td>1447.160034</td>\n",
       "      <td>85.570000</td>\n",
       "      <td>78.370003</td>\n",
       "      <td>15.285</td>\n",
       "      <td>1.474491</td>\n",
       "    </tr>\n",
       "    <tr>\n",
       "      <th>2</th>\n",
       "      <td>1/4/2008</td>\n",
       "      <td>1411.630005</td>\n",
       "      <td>85.129997</td>\n",
       "      <td>77.309998</td>\n",
       "      <td>15.167</td>\n",
       "      <td>1.475492</td>\n",
       "    </tr>\n",
       "    <tr>\n",
       "      <th>3</th>\n",
       "      <td>1/7/2008</td>\n",
       "      <td>1416.180054</td>\n",
       "      <td>84.769997</td>\n",
       "      <td>75.500000</td>\n",
       "      <td>15.053</td>\n",
       "      <td>1.468299</td>\n",
       "    </tr>\n",
       "    <tr>\n",
       "      <th>4</th>\n",
       "      <td>1/8/2008</td>\n",
       "      <td>1390.189941</td>\n",
       "      <td>86.779999</td>\n",
       "      <td>76.059998</td>\n",
       "      <td>15.590</td>\n",
       "      <td>1.557099</td>\n",
       "    </tr>\n",
       "  </tbody>\n",
       "</table>\n",
       "</div>"
      ],
      "text/plain": [
       "       Date          SPX        GLD        USO     SLV   EUR/USD\n",
       "0  1/2/2008  1447.160034  84.860001  78.470001  15.180  1.471692\n",
       "1  1/3/2008  1447.160034  85.570000  78.370003  15.285  1.474491\n",
       "2  1/4/2008  1411.630005  85.129997  77.309998  15.167  1.475492\n",
       "3  1/7/2008  1416.180054  84.769997  75.500000  15.053  1.468299\n",
       "4  1/8/2008  1390.189941  86.779999  76.059998  15.590  1.557099"
      ]
     },
     "execution_count": 3,
     "metadata": {},
     "output_type": "execute_result"
    }
   ],
   "source": [
    "gold_data.head()"
   ]
  },
  {
   "cell_type": "code",
   "execution_count": 4,
   "id": "da11e1cf-8e35-4cec-976b-fb2ebb54c2f5",
   "metadata": {},
   "outputs": [
    {
     "name": "stdout",
     "output_type": "stream",
     "text": [
      "<class 'pandas.core.frame.DataFrame'>\n",
      "RangeIndex: 2290 entries, 0 to 2289\n",
      "Data columns (total 6 columns):\n",
      " #   Column   Non-Null Count  Dtype  \n",
      "---  ------   --------------  -----  \n",
      " 0   Date     2290 non-null   object \n",
      " 1   SPX      2290 non-null   float64\n",
      " 2   GLD      2290 non-null   float64\n",
      " 3   USO      2290 non-null   float64\n",
      " 4   SLV      2290 non-null   float64\n",
      " 5   EUR/USD  2290 non-null   float64\n",
      "dtypes: float64(5), object(1)\n",
      "memory usage: 107.5+ KB\n"
     ]
    }
   ],
   "source": [
    "gold_data.info()"
   ]
  },
  {
   "cell_type": "code",
   "execution_count": 5,
   "id": "111e8851-b4a1-458b-a8ff-aaf15052e886",
   "metadata": {},
   "outputs": [
    {
     "data": {
      "text/html": [
       "<div>\n",
       "<style scoped>\n",
       "    .dataframe tbody tr th:only-of-type {\n",
       "        vertical-align: middle;\n",
       "    }\n",
       "\n",
       "    .dataframe tbody tr th {\n",
       "        vertical-align: top;\n",
       "    }\n",
       "\n",
       "    .dataframe thead th {\n",
       "        text-align: right;\n",
       "    }\n",
       "</style>\n",
       "<table border=\"1\" class=\"dataframe\">\n",
       "  <thead>\n",
       "    <tr style=\"text-align: right;\">\n",
       "      <th></th>\n",
       "      <th>SPX</th>\n",
       "      <th>GLD</th>\n",
       "      <th>USO</th>\n",
       "      <th>SLV</th>\n",
       "      <th>EUR/USD</th>\n",
       "    </tr>\n",
       "  </thead>\n",
       "  <tbody>\n",
       "    <tr>\n",
       "      <th>count</th>\n",
       "      <td>2290.000000</td>\n",
       "      <td>2290.000000</td>\n",
       "      <td>2290.000000</td>\n",
       "      <td>2290.000000</td>\n",
       "      <td>2290.000000</td>\n",
       "    </tr>\n",
       "    <tr>\n",
       "      <th>mean</th>\n",
       "      <td>1654.315776</td>\n",
       "      <td>122.732875</td>\n",
       "      <td>31.842221</td>\n",
       "      <td>20.084997</td>\n",
       "      <td>1.283653</td>\n",
       "    </tr>\n",
       "    <tr>\n",
       "      <th>std</th>\n",
       "      <td>519.111540</td>\n",
       "      <td>23.283346</td>\n",
       "      <td>19.523517</td>\n",
       "      <td>7.092566</td>\n",
       "      <td>0.131547</td>\n",
       "    </tr>\n",
       "    <tr>\n",
       "      <th>min</th>\n",
       "      <td>676.530029</td>\n",
       "      <td>70.000000</td>\n",
       "      <td>7.960000</td>\n",
       "      <td>8.850000</td>\n",
       "      <td>1.039047</td>\n",
       "    </tr>\n",
       "    <tr>\n",
       "      <th>25%</th>\n",
       "      <td>1239.874969</td>\n",
       "      <td>109.725000</td>\n",
       "      <td>14.380000</td>\n",
       "      <td>15.570000</td>\n",
       "      <td>1.171313</td>\n",
       "    </tr>\n",
       "    <tr>\n",
       "      <th>50%</th>\n",
       "      <td>1551.434998</td>\n",
       "      <td>120.580002</td>\n",
       "      <td>33.869999</td>\n",
       "      <td>17.268500</td>\n",
       "      <td>1.303297</td>\n",
       "    </tr>\n",
       "    <tr>\n",
       "      <th>75%</th>\n",
       "      <td>2073.010070</td>\n",
       "      <td>132.840004</td>\n",
       "      <td>37.827501</td>\n",
       "      <td>22.882500</td>\n",
       "      <td>1.369971</td>\n",
       "    </tr>\n",
       "    <tr>\n",
       "      <th>max</th>\n",
       "      <td>2872.870117</td>\n",
       "      <td>184.589996</td>\n",
       "      <td>117.480003</td>\n",
       "      <td>47.259998</td>\n",
       "      <td>1.598798</td>\n",
       "    </tr>\n",
       "  </tbody>\n",
       "</table>\n",
       "</div>"
      ],
      "text/plain": [
       "               SPX          GLD          USO          SLV      EUR/USD\n",
       "count  2290.000000  2290.000000  2290.000000  2290.000000  2290.000000\n",
       "mean   1654.315776   122.732875    31.842221    20.084997     1.283653\n",
       "std     519.111540    23.283346    19.523517     7.092566     0.131547\n",
       "min     676.530029    70.000000     7.960000     8.850000     1.039047\n",
       "25%    1239.874969   109.725000    14.380000    15.570000     1.171313\n",
       "50%    1551.434998   120.580002    33.869999    17.268500     1.303297\n",
       "75%    2073.010070   132.840004    37.827501    22.882500     1.369971\n",
       "max    2872.870117   184.589996   117.480003    47.259998     1.598798"
      ]
     },
     "execution_count": 5,
     "metadata": {},
     "output_type": "execute_result"
    }
   ],
   "source": [
    "gold_data.describe()"
   ]
  },
  {
   "cell_type": "code",
   "execution_count": 6,
   "id": "2aea22a0-087f-458d-8974-09b5e7fdfce6",
   "metadata": {},
   "outputs": [
    {
     "data": {
      "text/plain": [
       "Date       0\n",
       "SPX        0\n",
       "GLD        0\n",
       "USO        0\n",
       "SLV        0\n",
       "EUR/USD    0\n",
       "dtype: int64"
      ]
     },
     "execution_count": 6,
     "metadata": {},
     "output_type": "execute_result"
    }
   ],
   "source": [
    "gold_data.isnull().sum()"
   ]
  },
  {
   "cell_type": "code",
   "execution_count": 7,
   "id": "4d7d76b7-3412-4823-a094-3b51b6dec39f",
   "metadata": {},
   "outputs": [],
   "source": [
    "correlation = gold_data.corr()"
   ]
  },
  {
   "cell_type": "code",
   "execution_count": 8,
   "id": "959dea9b-5145-425e-a4f6-92dc553c0a62",
   "metadata": {},
   "outputs": [
    {
     "data": {
      "text/plain": [
       "<AxesSubplot:>"
      ]
     },
     "execution_count": 8,
     "metadata": {},
     "output_type": "execute_result"
    },
    {
     "data": {
      "image/png": "[encoded data removed]",
      "text/plain": [
       "<Figure size 576x576 with 2 Axes>"
      ]
     },
     "metadata": {
      "needs_background": "light"
     },
     "output_type": "display_data"
    }
   ],
   "source": [
    "plt.figure(figsize=(8,8))\n",
    "sns.heatmap(correlation,annot= True,cmap = 'Blues',fmt='.1f')"
   ]
  },
  {
   "cell_type": "code",
   "execution_count": 9,
   "id": "3aed0c70-5ca8-494e-b0e0-f17f6b11d849",
   "metadata": {},
   "outputs": [
    {
     "data": {
      "text/plain": [
       "SPX        0.049345\n",
       "GLD        1.000000\n",
       "USO       -0.186360\n",
       "SLV        0.866632\n",
       "EUR/USD   -0.024375\n",
       "Name: GLD, dtype: float64"
      ]
     },
     "execution_count": 9,
     "metadata": {},
     "output_type": "execute_result"
    }
   ],
   "source": [
    "correlation['GLD']"
   ]
  },
  {
   "cell_type": "code",
   "execution_count": 10,
   "id": "d1983e99-262c-44fd-98a0-38efd10d63e1",
   "metadata": {},
   "outputs": [
    {
     "name": "stderr",
     "output_type": "stream",
     "text": [
      "C:\\Users\\Admin\\anaconda3\\lib\\site-packages\\seaborn\\distributions.py:2619: FutureWarning: `distplot` is a deprecated function and will be removed in a future version. Please adapt your code to use either `displot` (a figure-level function with similar flexibility) or `histplot` (an axes-level function for histograms).\n",
      "  warnings.warn(msg, FutureWarning)\n"
     ]
    },
    {
     "data": {
      "text/plain": [
       "<AxesSubplot:xlabel='GLD', ylabel='Density'>"
      ]
     },
     "execution_count": 10,
     "metadata": {},
     "output_type": "execute_result"
    },
    {
     "data": {
      "image/png": "[encoded data removed]",
      "text/plain": [
       "<Figure size 432x288 with 1 Axes>"
      ]
     },
     "metadata": {
      "needs_background": "light"
     },
     "output_type": "display_data"
    }
   ],
   "source": [
    "sns.distplot(gold_data['GLD'],color='green')"
   ]
  },
  {
   "cell_type": "code",
   "execution_count": 11,
   "id": "7a9c8fef-e94c-408d-95b1-cffb987dd963",
   "metadata": {},
   "outputs": [],
   "source": [
    "X = gold_data.drop(['Date','GLD'],axis=1)\n",
    "y = gold_data['GLD']"
   ]
  },
  {
   "cell_type": "code",
   "execution_count": 12,
   "id": "a5bfe1d3-ff8c-4bb6-90a8-bcdc2bf3106a",
   "metadata": {},
   "outputs": [
    {
     "data": {
      "text/html": [
       "<div>\n",
       "<style scoped>\n",
       "    .dataframe tbody tr th:only-of-type {\n",
       "        vertical-align: middle;\n",
       "    }\n",
       "\n",
       "    .dataframe tbody tr th {\n",
       "        vertical-align: top;\n",
       "    }\n",
       "\n",
       "    .dataframe thead th {\n",
       "        text-align: right;\n",
       "    }\n",
       "</style>\n",
       "<table border=\"1\" class=\"dataframe\">\n",
       "  <thead>\n",
       "    <tr style=\"text-align: right;\">\n",
       "      <th></th>\n",
       "      <th>SPX</th>\n",
       "      <th>USO</th>\n",
       "      <th>SLV</th>\n",
       "      <th>EUR/USD</th>\n",
       "    </tr>\n",
       "  </thead>\n",
       "  <tbody>\n",
       "    <tr>\n",
       "      <th>0</th>\n",
       "      <td>1447.160034</td>\n",
       "      <td>78.470001</td>\n",
       "      <td>15.1800</td>\n",
       "      <td>1.471692</td>\n",
       "    </tr>\n",
       "    <tr>\n",
       "      <th>1</th>\n",
       "      <td>1447.160034</td>\n",
       "      <td>78.370003</td>\n",
       "      <td>15.2850</td>\n",
       "      <td>1.474491</td>\n",
       "    </tr>\n",
       "    <tr>\n",
       "      <th>2</th>\n",
       "      <td>1411.630005</td>\n",
       "      <td>77.309998</td>\n",
       "      <td>15.1670</td>\n",
       "      <td>1.475492</td>\n",
       "    </tr>\n",
       "    <tr>\n",
       "      <th>3</th>\n",
       "      <td>1416.180054</td>\n",
       "      <td>75.500000</td>\n",
       "      <td>15.0530</td>\n",
       "      <td>1.468299</td>\n",
       "    </tr>\n",
       "    <tr>\n",
       "      <th>4</th>\n",
       "      <td>1390.189941</td>\n",
       "      <td>76.059998</td>\n",
       "      <td>15.5900</td>\n",
       "      <td>1.557099</td>\n",
       "    </tr>\n",
       "    <tr>\n",
       "      <th>...</th>\n",
       "      <td>...</td>\n",
       "      <td>...</td>\n",
       "      <td>...</td>\n",
       "      <td>...</td>\n",
       "    </tr>\n",
       "    <tr>\n",
       "      <th>2285</th>\n",
       "      <td>2671.919922</td>\n",
       "      <td>14.060000</td>\n",
       "      <td>15.5100</td>\n",
       "      <td>1.186789</td>\n",
       "    </tr>\n",
       "    <tr>\n",
       "      <th>2286</th>\n",
       "      <td>2697.790039</td>\n",
       "      <td>14.370000</td>\n",
       "      <td>15.5300</td>\n",
       "      <td>1.184722</td>\n",
       "    </tr>\n",
       "    <tr>\n",
       "      <th>2287</th>\n",
       "      <td>2723.070068</td>\n",
       "      <td>14.410000</td>\n",
       "      <td>15.7400</td>\n",
       "      <td>1.191753</td>\n",
       "    </tr>\n",
       "    <tr>\n",
       "      <th>2288</th>\n",
       "      <td>2730.129883</td>\n",
       "      <td>14.380000</td>\n",
       "      <td>15.5600</td>\n",
       "      <td>1.193118</td>\n",
       "    </tr>\n",
       "    <tr>\n",
       "      <th>2289</th>\n",
       "      <td>2725.780029</td>\n",
       "      <td>14.405800</td>\n",
       "      <td>15.4542</td>\n",
       "      <td>1.182033</td>\n",
       "    </tr>\n",
       "  </tbody>\n",
       "</table>\n",
       "<p>2290 rows × 4 columns</p>\n",
       "</div>"
      ],
      "text/plain": [
       "              SPX        USO      SLV   EUR/USD\n",
       "0     1447.160034  78.470001  15.1800  1.471692\n",
       "1     1447.160034  78.370003  15.2850  1.474491\n",
       "2     1411.630005  77.309998  15.1670  1.475492\n",
       "3     1416.180054  75.500000  15.0530  1.468299\n",
       "4     1390.189941  76.059998  15.5900  1.557099\n",
       "...           ...        ...      ...       ...\n",
       "2285  2671.919922  14.060000  15.5100  1.186789\n",
       "2286  2697.790039  14.370000  15.5300  1.184722\n",
       "2287  2723.070068  14.410000  15.7400  1.191753\n",
       "2288  2730.129883  14.380000  15.5600  1.193118\n",
       "2289  2725.780029  14.405800  15.4542  1.182033\n",
       "\n",
       "[2290 rows x 4 columns]"
      ]
     },
     "execution_count": 12,
     "metadata": {},
     "output_type": "execute_result"
    }
   ],
   "source": [
    "X"
   ]
  },
  {
   "cell_type": "code",
   "execution_count": 13,
   "id": "24fe49b2-71d7-4ed5-a4c8-9d07b009c974",
   "metadata": {},
   "outputs": [
    {
     "data": {
      "text/plain": [
       "0        84.860001\n",
       "1        85.570000\n",
       "2        85.129997\n",
       "3        84.769997\n",
       "4        86.779999\n",
       "           ...    \n",
       "2285    124.589996\n",
       "2286    124.330002\n",
       "2287    125.180000\n",
       "2288    124.489998\n",
       "2289    122.543800\n",
       "Name: GLD, Length: 2290, dtype: float64"
      ]
     },
     "execution_count": 13,
     "metadata": {},
     "output_type": "execute_result"
    }
   ],
   "source": [
    "y"
   ]
  },
  {
   "cell_type": "code",
   "execution_count": 14,
   "id": "ef6e7fe2-22b4-4ccf-9636-274011bdac2a",
   "metadata": {},
   "outputs": [],
   "source": [
    "X_train,X_test,y_train,y_test = train_test_split(X,y,test_size=0.2,random_state=2)"
   ]
  },
  {
   "cell_type": "code",
   "execution_count": 15,
   "id": "4c7a8194-5126-4542-b34b-80cab29817f4",
   "metadata": {},
   "outputs": [
    {
     "data": {
      "text/plain": [
       "903     168.020004\n",
       "129      81.230003\n",
       "1787    112.320000\n",
       "1913    127.589996\n",
       "2048    119.620003\n",
       "           ...    \n",
       "923     166.380005\n",
       "1693    106.379997\n",
       "2054    122.239998\n",
       "658     133.830002\n",
       "376     102.360001\n",
       "Name: GLD, Length: 458, dtype: float64"
      ]
     },
     "execution_count": 15,
     "metadata": {},
     "output_type": "execute_result"
    }
   ],
   "source": [
    "y_test"
   ]
  },
  {
   "cell_type": "code",
   "execution_count": 16,
   "id": "cfff3805-3a6c-4043-9c8f-1738badc7d12",
   "metadata": {},
   "outputs": [
    {
     "data": {
      "text/plain": [
       "RandomForestRegressor()"
      ]
     },
     "execution_count": 16,
     "metadata": {},
     "output_type": "execute_result"
    }
   ],
   "source": [
    "regressor = RandomForestRegressor(n_estimators=100)\n",
    "regressor.fit(X_train,y_train)"
   ]
  },
  {
   "cell_type": "code",
   "execution_count": 17,
   "id": "6b6bd832-902d-476c-a1f3-7e2b60530fae",
   "metadata": {},
   "outputs": [],
   "source": [
    "test_prediction=regressor.predict(X_test)"
   ]
  },
  {
   "cell_type": "code",
   "execution_count": 18,
   "id": "b607a7c6-3eca-4257-a945-da9eba4289c6",
   "metadata": {},
   "outputs": [
    {
     "data": {
      "text/plain": [
       "array([168.43879948,  81.80869991, 116.05460003, 127.54170065,\n",
       "       120.82510113, 154.85979733, 150.09099833, 126.08640021,\n",
       "       117.45049892, 125.99470075, 116.62190075, 172.36640058,\n",
       "       140.84209906, 167.5802986 , 115.32759994, 117.44900039,\n",
       "       140.30710235, 170.0392004 , 159.59000227, 158.50449989,\n",
       "       155.07150011, 125.41369985, 176.31510005, 156.94380208,\n",
       "       125.29460035,  93.82189971,  77.44750003, 120.56780024,\n",
       "       119.07789931, 167.42579944,  88.35350034, 125.08709992,\n",
       "        91.04600064, 117.65890033, 121.20859916, 136.42230097,\n",
       "       115.53620131, 114.92230059, 148.17400044, 107.25050108,\n",
       "       104.6530024 ,  87.09889758, 126.50620094, 117.98019989,\n",
       "       153.93609915, 119.55310005, 108.31390011, 107.99469807,\n",
       "        93.15670074, 127.26129736,  74.93240038, 113.61209917,\n",
       "       121.26619999, 111.16539871, 118.86769908, 120.73219944,\n",
       "       159.43979961, 168.15890137, 146.83799651,  85.74889833,\n",
       "        94.40190035,  86.88499909,  90.45800016, 119.04140069,\n",
       "       126.41910044, 127.51630003, 169.54309992, 122.30389945,\n",
       "       117.42509905,  98.36400016, 168.35690159, 143.04099844,\n",
       "       132.28250181, 121.3400023 , 121.15379962, 119.81160073,\n",
       "       114.39080183, 118.23570041, 107.10780103, 127.86030089,\n",
       "       114.18819964, 107.28539973, 116.83810091, 119.51899869,\n",
       "        89.18570065,  88.24869862, 146.97690151, 127.28329959,\n",
       "       113.61740029, 109.92259815, 108.28409907,  77.05639909,\n",
       "       168.42930145, 114.01109902, 121.73229885, 127.90190231,\n",
       "       155.1454975 ,  91.7931    , 136.60860108, 158.79630323,\n",
       "       125.38820036, 125.40560044, 130.54870132, 114.70550138,\n",
       "       119.75839972,  92.08669978, 109.93149927, 167.63199946,\n",
       "       157.74989899, 114.17169973, 106.59490103,  79.78459955,\n",
       "       113.28960018, 125.826601  , 107.59639947, 119.37490082,\n",
       "       156.13590305, 159.94879863, 120.33089977, 134.80840281,\n",
       "       101.54070005, 117.813698  , 119.23080052, 112.86180036,\n",
       "       102.74489905, 160.2171979 ,  98.95260044, 147.16079993,\n",
       "       125.60520106, 170.09599922, 125.7032988 , 127.2414977 ,\n",
       "       127.36380147, 113.85509899, 112.84490077, 123.75549911,\n",
       "       102.19879882,  89.36620012, 124.55669947, 101.31319947,\n",
       "       107.17409865, 113.64110083, 117.0594007 ,  98.86359925,\n",
       "       121.84620052, 163.20039937,  87.36479865, 106.9936998 ,\n",
       "       117.32210073, 127.68780137, 124.0993004 ,  80.58529928,\n",
       "       120.43360071, 158.52839832,  88.05809997, 110.41859929,\n",
       "       119.03179931, 172.52879847, 102.94299923, 105.10660066,\n",
       "       122.36080044, 158.91029772,  87.31889853,  92.99550038,\n",
       "       112.97690038, 177.73739966, 114.27789972, 119.30080056,\n",
       "        94.66970073, 125.57820055, 166.26540083, 114.68730074,\n",
       "       116.90730123,  88.33029863, 148.83600067, 120.51869922,\n",
       "        89.39429991, 111.75000001, 117.26200002, 118.76780118,\n",
       "        88.04979966,  94.07729991, 116.92890012, 118.45620194,\n",
       "       120.43890067, 126.93229762, 121.92439994, 150.33060089,\n",
       "       164.98530137, 118.54909972, 120.336501  , 151.24990027,\n",
       "       118.2733995 , 172.80929912, 105.27819919, 104.98890154,\n",
       "       149.380401  , 113.73020078, 124.86740111, 147.85749972,\n",
       "       119.51340092, 115.41800022, 112.42929996, 113.40340213,\n",
       "       140.00550147, 117.91539771, 102.88350004, 115.7689014 ,\n",
       "       103.60950186,  98.47290013, 117.46570075,  90.75770006,\n",
       "        91.44430058, 153.24279952, 102.60529972, 154.98110083,\n",
       "       114.28790124, 138.13050132,  90.04069842, 115.42489954,\n",
       "       115.26449957, 123.08770053, 121.77960003, 165.23650146,\n",
       "        92.95629972, 134.9858009 , 121.37489927, 121.02750062,\n",
       "       104.56080013, 143.14370248, 121.53189917, 116.60300039,\n",
       "       113.65160097, 127.0807977 , 122.7621995 , 125.80259945,\n",
       "       121.22520047,  86.81609903, 132.78600218, 144.19950257,\n",
       "        92.62629922, 159.63339913, 159.21110205, 126.3575989 ,\n",
       "       164.77070008, 108.76299963, 110.35140062, 103.7767985 ,\n",
       "        94.38790046, 127.74870246, 107.19830054, 161.99369959,\n",
       "       121.76620045, 132.14620007, 130.60950135, 160.1940994 ,\n",
       "        89.98569856, 175.8068023 , 128.0455004 , 126.97249822,\n",
       "        86.36109889, 124.69379944, 150.34169715,  89.59140028,\n",
       "       107.09869986, 108.98499967,  83.99679927, 135.52809943,\n",
       "       155.20770178, 139.91980352,  74.05110033, 152.62410095,\n",
       "       126.07399989, 126.72690025, 127.422399  , 108.43029971,\n",
       "       156.18009972, 114.68290151, 116.75810121, 125.43399938,\n",
       "       154.11990121, 121.28320013, 156.51869832,  93.00110072,\n",
       "       125.4051013 , 125.3432004 ,  87.98420091,  92.1835992 ,\n",
       "       126.21569949, 128.47850324, 113.30380052, 117.60119768,\n",
       "       121.0425999 , 127.00219803, 119.69060105, 136.26700078,\n",
       "        93.88989925, 119.89350036, 113.2090013 ,  94.27909942,\n",
       "       109.08089957,  87.22459924, 109.27939965,  89.60739985,\n",
       "        92.51140046, 131.68420227, 162.49570068,  89.26359991,\n",
       "       119.6528008 , 133.56360202, 123.87910002, 128.70750237,\n",
       "       101.95099841,  88.94599856, 131.83910071, 120.04310032,\n",
       "       108.40540012, 168.08870106, 115.24320027,  86.63959912,\n",
       "       118.84710069,  90.98969975, 161.76450019, 116.66500048,\n",
       "       121.45060015, 160.2965983 , 120.05989944, 112.77439945,\n",
       "       108.5059988 , 126.64929967,  76.06540027, 103.01929981,\n",
       "       127.79240243, 121.68379903,  92.64220037, 131.71550034,\n",
       "       118.32770064, 116.03609991, 154.71360253, 159.90070117,\n",
       "       110.02449947, 155.60329785, 119.28080066, 160.6792006 ,\n",
       "       118.27740051, 158.58269922, 115.03659948, 116.53380008,\n",
       "       150.16829881, 114.65210093, 125.73849902, 166.24820037,\n",
       "       117.81190017, 125.36519933, 153.36250371, 153.5203024 ,\n",
       "       132.0358004 , 114.66100038, 121.31470226, 125.37440098,\n",
       "        89.63730088, 123.30380003, 154.95050236, 111.59840032,\n",
       "       106.8238999 , 161.04100132, 118.42919975, 165.71610028,\n",
       "       134.19670095, 115.18059946, 153.07079925, 168.70410019,\n",
       "       115.03329983, 113.99500142, 159.03269922,  85.23059892,\n",
       "       127.03050066, 127.99170047, 128.92640019, 124.05930064,\n",
       "       123.8907004 ,  90.59410102, 153.31869995,  97.21199969,\n",
       "       136.8119002 ,  88.99099906, 107.30249996, 115.01360023,\n",
       "       112.58370088, 124.0730993 ,  91.38039861, 125.37810137,\n",
       "       162.40359908, 119.74779913, 165.16310085, 126.95049769,\n",
       "       112.32930003, 127.65869909,  95.09669941,  91.10399983,\n",
       "       103.10909883, 120.71529983,  82.98719975, 126.30869999,\n",
       "       160.41730405, 117.41980091, 118.17680023, 120.05769997,\n",
       "       122.63529974, 120.07350119, 121.52919962, 118.17700062,\n",
       "       107.25179982, 148.54840009, 125.92989863, 115.71200104,\n",
       "        73.87830014, 127.83500108, 155.49230127, 122.54880018,\n",
       "       125.67310078,  88.68499996, 103.28299909, 124.16540042,\n",
       "       120.17310068,  73.32920079, 151.97010024, 121.18920037,\n",
       "       104.50419993,  86.2878976 , 115.12279911, 172.15429761,\n",
       "       119.92230028, 160.07279726, 113.20619944, 121.25220031,\n",
       "       118.63970072,  96.09269985, 118.78100021, 125.85990017,\n",
       "       118.57249946,  95.98870094, 154.0836019 , 121.78520014,\n",
       "       147.55320019, 158.9342031 , 113.93150026, 122.49099937,\n",
       "       150.05209811, 127.2580002 , 165.85200092, 135.37420032,\n",
       "       120.14300037, 167.28749806, 108.28659976, 121.66499867,\n",
       "       139.57990193, 105.76379908])"
      ]
     },
     "execution_count": 18,
     "metadata": {},
     "output_type": "execute_result"
    }
   ],
   "source": [
    "test_prediction"
   ]
  },
  {
   "cell_type": "code",
   "execution_count": 19,
   "id": "65d8a766-36b8-4d47-95d6-dba8b840e808",
   "metadata": {},
   "outputs": [],
   "source": [
    "error_score = metrics.r2_score(y_test,test_prediction)"
   ]
  },
  {
   "cell_type": "code",
   "execution_count": 20,
   "id": "fc98d669-79e2-44ea-a417-35335a5728f7",
   "metadata": {},
   "outputs": [
    {
     "data": {
      "text/plain": [
       "0.9887393967660082"
      ]
     },
     "execution_count": 20,
     "metadata": {},
     "output_type": "execute_result"
    }
   ],
   "source": [
    "error_score"
   ]
  },
  {
   "cell_type": "code",
   "execution_count": 22,
   "id": "6381c20d-44a2-48ab-81aa-fbaeb82837c3",
   "metadata": {},
   "outputs": [
    {
     "data": {
      "image/png": "[encoded data removed]",
      "text/plain": [
       "<Figure size 432x288 with 1 Axes>"
      ]
     },
     "metadata": {
      "needs_background": "light"
     },
     "output_type": "display_data"
    }
   ],
   "source": [
    "plt.plot(list(y_test),color='blue',label='actual prices')\n",
    "plt.plot(test_prediction,color='green', label='predicted prices')\n",
    "plt.xlabel('No. of values')\n",
    "plt.ylabel('GLD prices')\n",
    "plt.title('Actual prices vs Predicted prices')\n",
    "plt.legend()\n",
    "plt.show()"
   ]
  },
  {
   "cell_type": "code",
   "execution_count": null,
   "id": "fcc04107-956b-4207-acd8-203f38fafd4a",
   "metadata": {},
   "outputs": [],
   "source": []
  }
 ],
 "metadata": {
  "kernelspec": {
   "display_name": "Python 3 (ipykernel)",
   "language": "python",
   "name": "python3"
  },
  "language_info": {
   "codemirror_mode": {
    "name": "ipython",
    "version": 3
   },
   "file_extension": ".py",
   "mimetype": "text/x-python",
   "name": "python",
   "nbconvert_exporter": "python",
   "pygments_lexer": "ipython3",
   "version": "3.9.12"
  }
 },
 "nbformat": 4,
 "nbformat_minor": 5
}
